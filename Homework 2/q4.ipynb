{
 "cells": [
  {
   "cell_type": "code",
   "execution_count": 1,
   "metadata": {},
   "outputs": [],
   "source": [
    "import numpy as np"
   ]
  },
  {
   "cell_type": "code",
   "execution_count": 2,
   "metadata": {},
   "outputs": [],
   "source": [
    "A_coordinate = np.array([0, 1])\n",
    "A_prime_coordinate = np.array([4, 1])\n",
    "B_coordinate = np.array([0, 3])\n",
    "B_prime_coordinate = np.array([2, 3])"
   ]
  },
  {
   "cell_type": "code",
   "execution_count": 3,
   "metadata": {},
   "outputs": [],
   "source": [
    "def perform_action(s, a, GRID_SIZE, A_reward = 10.0, B_reward = 5.0):\n",
    "    next_state = None\n",
    "    r = None\n",
    "    if s[0] == A_coordinate[0] and s[1] == A_coordinate[1]:\n",
    "        next_state, r = A_prime_coordinate, A_reward\n",
    "    elif s[0] == B_coordinate[0] and s[1] == B_coordinate[1]:\n",
    "        next_state, r = B_prime_coordinate, B_reward\n",
    "    else:\n",
    "        potential_next_state = s + a\n",
    "        if potential_next_state[0] < GRID_SIZE and potential_next_state[0] >= 0 and potential_next_state[1] < GRID_SIZE and potential_next_state[1] >= 0:\n",
    "            next_state = potential_next_state\n",
    "            r = 0.0\n",
    "        else:\n",
    "            next_state = s\n",
    "            r = -1.0\n",
    "    return next_state, r"
   ]
  },
  {
   "cell_type": "code",
   "execution_count": 4,
   "metadata": {},
   "outputs": [],
   "source": [
    "GRID_SIZE = 5\n",
    "gamma = 0.9\n",
    "THRESHOLD = 1e-7\n",
    "actions = np.array([\n",
    "    [0, -1], \n",
    "    [1, 0], \n",
    "    [0, 1], \n",
    "    [-1, 0]\n",
    "])\n",
    "actions_name = [\"L\", \"D\", \"R\", \"U\"]"
   ]
  },
  {
   "cell_type": "code",
   "execution_count": 5,
   "metadata": {
    "scrolled": true
   },
   "outputs": [
    {
     "name": "stdout",
     "output_type": "stream",
     "text": [
      "0\n",
      "1\n",
      "2\n",
      "3\n",
      "4\n"
     ]
    }
   ],
   "source": [
    "v = np.zeros((GRID_SIZE, GRID_SIZE))\n",
    "policy = [[ np.arange(4) for i in range(GRID_SIZE) ] for j in range(GRID_SIZE)]\n",
    "\n",
    "def policy_evaluation(policy):\n",
    "    COEFFICIENTS = np.zeros((GRID_SIZE**2, GRID_SIZE**2))\n",
    "    CONSTANTS = np.zeros((GRID_SIZE**2))\n",
    "    for i in range(GRID_SIZE):\n",
    "        for j in range(GRID_SIZE):\n",
    "            s = np.array([i, j])\n",
    "            COEFFICIENTS[i*GRID_SIZE+j, i*GRID_SIZE+j] += -1\n",
    "            for k in policy[i][j]:\n",
    "                a = actions[k]\n",
    "                s_prime, r = perform_action(s, a, GRID_SIZE)\n",
    "                COEFFICIENTS[i*GRID_SIZE+j, s_prime[0]*GRID_SIZE+s_prime[1]] += (1/len(policy[i][j])) * gamma\n",
    "                CONSTANTS[i*GRID_SIZE+j] += -(1/len(policy[i][j])) * r\n",
    "    return np.matmul(np.linalg.inv(COEFFICIENTS), CONSTANTS).reshape((GRID_SIZE, GRID_SIZE))\n",
    "\n",
    "def policy_improvement(v):\n",
    "    policy_ = [[ np.arange(4) for i in range(GRID_SIZE) ] for j in range(GRID_SIZE)]\n",
    "    for i in range(GRID_SIZE):\n",
    "        for j in range(GRID_SIZE):\n",
    "            s = np.array([i, j])\n",
    "            values = []\n",
    "            for k in range(len(actions)):\n",
    "                a = actions[k]\n",
    "                s_prime, r = perform_action(s, a, GRID_SIZE)\n",
    "                values.append(r+gamma*v[s_prime[0], s_prime[1]])\n",
    "            values = np.around(np.array(values), decimals=5)\n",
    "            policy_[i][j] = np.where(values == np.max(values))[0]\n",
    "    return policy_\n",
    "         \n",
    "iteration = 0\n",
    "while True:\n",
    "    v_ = policy_evaluation(policy)\n",
    "    policy_ = policy_improvement(v_)\n",
    "    print(iteration)\n",
    "    \n",
    "    if np.abs(v-v_).max()<THRESHOLD:\n",
    "        policy = policy_\n",
    "        v = v_\n",
    "        break\n",
    "    policy = policy_\n",
    "    v = v_\n",
    "    iteration += 1"
   ]
  },
  {
   "cell_type": "code",
   "execution_count": 6,
   "metadata": {},
   "outputs": [
    {
     "name": "stdout",
     "output_type": "stream",
     "text": [
      "[[21.98 24.42 21.98 19.42 17.48]\n",
      " [19.78 21.98 19.78 17.8  16.02]\n",
      " [17.8  19.78 17.8  16.02 14.42]\n",
      " [16.02 17.8  16.02 14.42 12.98]\n",
      " [14.42 16.02 14.42 12.98 11.68]]\n"
     ]
    }
   ],
   "source": [
    "print(np.around(v, decimals=2))"
   ]
  },
  {
   "cell_type": "code",
   "execution_count": 7,
   "metadata": {},
   "outputs": [
    {
     "name": "stdout",
     "output_type": "stream",
     "text": [
      "[['R' 'LDRU' 'L' 'LDRU' 'L']\n",
      " ['RU' 'U' 'LU' 'L' 'L']\n",
      " ['RU' 'U' 'LU' 'LU' 'LU']\n",
      " ['RU' 'U' 'LU' 'LU' 'LU']\n",
      " ['RU' 'U' 'LU' 'LU' 'LU']]\n"
     ]
    }
   ],
   "source": [
    "decision = []\n",
    "for i in range(GRID_SIZE):\n",
    "    decision.append([])\n",
    "    for j in range(GRID_SIZE):\n",
    "        string = \"\"\n",
    "        for k in policy[i][j]:\n",
    "            string += actions_name[k]\n",
    "        decision[i].append(string)\n",
    "decision = np.array(decision)\n",
    "print(decision)"
   ]
  }
 ],
 "metadata": {
  "kernelspec": {
   "display_name": "Python 3",
   "language": "python",
   "name": "python3"
  },
  "language_info": {
   "codemirror_mode": {
    "name": "ipython",
    "version": 3
   },
   "file_extension": ".py",
   "mimetype": "text/x-python",
   "name": "python",
   "nbconvert_exporter": "python",
   "pygments_lexer": "ipython3",
   "version": "3.6.8"
  }
 },
 "nbformat": 4,
 "nbformat_minor": 2
}
