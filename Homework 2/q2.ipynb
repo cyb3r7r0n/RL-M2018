{
 "cells": [
  {
   "cell_type": "code",
   "execution_count": 1,
   "metadata": {},
   "outputs": [],
   "source": [
    "import numpy as np"
   ]
  },
  {
   "cell_type": "code",
   "execution_count": 2,
   "metadata": {},
   "outputs": [],
   "source": [
    "A_coordinate = np.array([0, 1])\n",
    "A_prime_coordinate = np.array([4, 1])\n",
    "B_coordinate = np.array([0, 3])\n",
    "B_prime_coordinate = np.array([2, 3])"
   ]
  },
  {
   "cell_type": "code",
   "execution_count": 3,
   "metadata": {},
   "outputs": [],
   "source": [
    "def perform_action(s, a, GRID_SIZE, A_reward = 10.0, B_reward = 5.0):\n",
    "    next_state = None\n",
    "    r = None\n",
    "    if s[0] == A_coordinate[0] and s[1] == A_coordinate[1]:\n",
    "        next_state, r = A_prime_coordinate, A_reward\n",
    "    elif s[0] == B_coordinate[0] and s[1] == B_coordinate[1]:\n",
    "        next_state, r = B_prime_coordinate, B_reward\n",
    "    else:\n",
    "        potential_next_state = s + a\n",
    "        if potential_next_state[0] < GRID_SIZE and potential_next_state[0] >= 0 and potential_next_state[1] < GRID_SIZE and potential_next_state[1] >= 0:\n",
    "            next_state = potential_next_state\n",
    "            r = 0.0\n",
    "        else:\n",
    "            next_state = s\n",
    "            r = -1.0\n",
    "    return next_state, r"
   ]
  },
  {
   "cell_type": "code",
   "execution_count": 4,
   "metadata": {},
   "outputs": [],
   "source": [
    "GRID_SIZE = 5\n",
    "gamma = 0.9\n",
    "THRESHOLD = 1e-5\n",
    "actions = np.array([\n",
    "    [0, -1], \n",
    "    [1, 0], \n",
    "    [0, 1], \n",
    "    [-1, 0]\n",
    "])\n",
    "pi_action = [0.25 for i in range(4)]"
   ]
  },
  {
   "cell_type": "code",
   "execution_count": 11,
   "metadata": {},
   "outputs": [],
   "source": [
    "COEFFICIENTS = np.zeros((GRID_SIZE**2, GRID_SIZE**2))\n",
    "CONSTANTS = np.zeros((GRID_SIZE**2))\n",
    "for i in range(GRID_SIZE):\n",
    "    for j in range(GRID_SIZE):\n",
    "        s = np.array([i, j])\n",
    "        COEFFICIENTS[i*GRID_SIZE+j, i*GRID_SIZE+j] += -1\n",
    "        for k in range(actions.shape[0]):\n",
    "            a = actions[k]\n",
    "            s_prime, r = perform_action(s, a, GRID_SIZE)\n",
    "            COEFFICIENTS[i*GRID_SIZE+j, s_prime[0]*GRID_SIZE+s_prime[1]] += pi_action[k] * gamma\n",
    "            CONSTANTS[i*GRID_SIZE+j] += -pi_action[k] * r\n",
    "v = np.matmul(np.linalg.inv(COEFFICIENTS), CONSTANTS).reshape((GRID_SIZE, GRID_SIZE))\n",
    "v = np.around(v, decimals=2)"
   ]
  },
  {
   "cell_type": "code",
   "execution_count": 12,
   "metadata": {},
   "outputs": [
    {
     "name": "stdout",
     "output_type": "stream",
     "text": [
      "[[ 3.31  8.79  4.43  5.32  1.49]\n",
      " [ 1.52  2.99  2.25  1.91  0.55]\n",
      " [ 0.05  0.74  0.67  0.36 -0.4 ]\n",
      " [-0.97 -0.44 -0.35 -0.59 -1.18]\n",
      " [-1.86 -1.35 -1.23 -1.42 -1.98]]\n"
     ]
    }
   ],
   "source": [
    "print(v)"
   ]
  }
 ],
 "metadata": {
  "kernelspec": {
   "display_name": "Python 3",
   "language": "python",
   "name": "python3"
  },
  "language_info": {
   "codemirror_mode": {
    "name": "ipython",
    "version": 3
   },
   "file_extension": ".py",
   "mimetype": "text/x-python",
   "name": "python",
   "nbconvert_exporter": "python",
   "pygments_lexer": "ipython3",
   "version": "3.6.8"
  }
 },
 "nbformat": 4,
 "nbformat_minor": 2
}
