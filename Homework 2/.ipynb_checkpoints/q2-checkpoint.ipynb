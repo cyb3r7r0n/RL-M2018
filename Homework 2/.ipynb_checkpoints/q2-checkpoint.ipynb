{
 "cells": [
  {
   "cell_type": "code",
   "execution_count": 4,
   "metadata": {},
   "outputs": [],
   "source": [
    "import numpy as np"
   ]
  },
  {
   "cell_type": "code",
   "execution_count": 6,
   "metadata": {},
   "outputs": [],
   "source": [
    "A_coordinate = np.array([0, 1])\n",
    "A_prime_coordinate = np.array([4, 1])\n",
    "B_coordinate = np.array([0, 3])\n",
    "B_prime_coordinate = np.array([2, 3])"
   ]
  },
  {
   "cell_type": "code",
   "execution_count": 18,
   "metadata": {},
   "outputs": [],
   "source": [
    "def perform_action(s, a, GRID_SIZE, A_reward = 10, B_reward = 5):\n",
    "    next_state = None\n",
    "    r = None\n",
    "    if s[0] == A_coordinate[0] and s[1] == A_coordinate[1]:\n",
    "        next_state, r = A_prime_coordinate, A_reward\n",
    "    elif s[0] == B_coordinate[0] and s[1] == B_coordinate[1]:\n",
    "        next_state, r = B_prime_coordinate, B_reward\n",
    "    else:\n",
    "        potential_next_state = s + a\n",
    "        if potential_next_state[0] < GRID_SIZE and potential_next_state[0] >= 0 and potential_next_state[1] < GRID_SIZE and potential_next_state[1] >= 0:\n",
    "            next_state = potential_next_state\n",
    "            r = 0\n",
    "        else:\n",
    "            next_state = s\n",
    "            r = -1\n",
    "    return next_state, r"
   ]
  },
  {
   "cell_type": "code",
   "execution_count": 9,
   "metadata": {},
   "outputs": [],
   "source": [
    "GRID_SIZE = 5\n",
    "gamma = 0.9\n",
    "v = np.zeros((GRID_SIZE, GRID_SIZE))\n",
    "pi_action = 0.25\n",
    "THRESHOLD = 1e-5"
   ]
  },
  {
   "cell_type": "code",
   "execution_count": 19,
   "metadata": {},
   "outputs": [
    {
     "name": "stdout",
     "output_type": "stream",
     "text": [
      "potential_next_state [-1 -1] x -1 y -1 GRID_SIZE 5\n",
      "inside\n",
      "s [0 0] a [-1 -1] s_prime [-1 -1] r 0\n",
      "potential_next_state [-1  1] x -1 y 1 GRID_SIZE 5\n",
      "inside\n",
      "s [0 0] a [-1  1] s_prime [-1  1] r 0\n",
      "potential_next_state [ 1 -1] x 1 y -1 GRID_SIZE 5\n",
      "inside\n",
      "s [0 0] a [ 1 -1] s_prime [ 1 -1] r 0\n",
      "potential_next_state [1 1] x 1 y 1 GRID_SIZE 5\n",
      "outside\n",
      "s [0 0] a [1 1] s_prime [0 0] r -1\n",
      "s [0 1] a [-1 -1] s_prime [4 1] r 10\n",
      "s [0 1] a [-1  1] s_prime [4 1] r 10\n",
      "s [0 1] a [ 1 -1] s_prime [4 1] r 10\n",
      "s [0 1] a [1 1] s_prime [4 1] r 10\n",
      "potential_next_state [-1  1] x -1 y 1 GRID_SIZE 5\n",
      "inside\n",
      "s [0 2] a [-1 -1] s_prime [-1  1] r 0\n",
      "potential_next_state [-1  3] x -1 y 3 GRID_SIZE 5\n",
      "inside\n",
      "s [0 2] a [-1  1] s_prime [-1  3] r 0\n",
      "potential_next_state [1 1] x 1 y 1 GRID_SIZE 5\n",
      "outside\n",
      "s [0 2] a [ 1 -1] s_prime [0 2] r -1\n",
      "potential_next_state [1 3] x 1 y 3 GRID_SIZE 5\n",
      "outside\n",
      "s [0 2] a [1 1] s_prime [0 2] r -1\n",
      "s [0 3] a [-1 -1] s_prime [2 3] r 5\n",
      "s [0 3] a [-1  1] s_prime [2 3] r 5\n",
      "s [0 3] a [ 1 -1] s_prime [2 3] r 5\n",
      "s [0 3] a [1 1] s_prime [2 3] r 5\n",
      "potential_next_state [-1  3] x -1 y 3 GRID_SIZE 5\n",
      "inside\n",
      "s [0 4] a [-1 -1] s_prime [-1  3] r 0\n",
      "potential_next_state [-1  5] x -1 y 5 GRID_SIZE 5\n",
      "inside\n",
      "s [0 4] a [-1  1] s_prime [-1  5] r 0\n"
     ]
    },
    {
     "ename": "IndexError",
     "evalue": "index 5 is out of bounds for axis 0 with size 5",
     "output_type": "error",
     "traceback": [
      "\u001b[0;31m---------------------------------------------------------------------------\u001b[0m",
      "\u001b[0;31mIndexError\u001b[0m                                Traceback (most recent call last)",
      "\u001b[0;32m<ipython-input-19-b398fcdc4e57>\u001b[0m in \u001b[0;36m<module>\u001b[0;34m\u001b[0m\n\u001b[1;32m      9\u001b[0m                     \u001b[0ms_prime\u001b[0m\u001b[0;34m,\u001b[0m \u001b[0mr\u001b[0m \u001b[0;34m=\u001b[0m \u001b[0mperform_action\u001b[0m\u001b[0;34m(\u001b[0m\u001b[0ms\u001b[0m\u001b[0;34m,\u001b[0m \u001b[0ma\u001b[0m\u001b[0;34m,\u001b[0m \u001b[0mGRID_SIZE\u001b[0m\u001b[0;34m)\u001b[0m\u001b[0;34m\u001b[0m\u001b[0;34m\u001b[0m\u001b[0m\n\u001b[1;32m     10\u001b[0m                     \u001b[0mprint\u001b[0m\u001b[0;34m(\u001b[0m\u001b[0;34m\"s\"\u001b[0m\u001b[0;34m,\u001b[0m \u001b[0ms\u001b[0m\u001b[0;34m,\u001b[0m \u001b[0;34m\"a\"\u001b[0m\u001b[0;34m,\u001b[0m \u001b[0ma\u001b[0m\u001b[0;34m,\u001b[0m \u001b[0;34m\"s_prime\"\u001b[0m\u001b[0;34m,\u001b[0m \u001b[0ms_prime\u001b[0m\u001b[0;34m,\u001b[0m \u001b[0;34m\"r\"\u001b[0m\u001b[0;34m,\u001b[0m \u001b[0mr\u001b[0m\u001b[0;34m)\u001b[0m\u001b[0;34m\u001b[0m\u001b[0;34m\u001b[0m\u001b[0m\n\u001b[0;32m---> 11\u001b[0;31m                     \u001b[0mv_prime\u001b[0m\u001b[0;34m[\u001b[0m\u001b[0ms\u001b[0m\u001b[0;34m]\u001b[0m \u001b[0;34m+=\u001b[0m \u001b[0mpi_action\u001b[0m \u001b[0;34m*\u001b[0m \u001b[0;34m(\u001b[0m\u001b[0mr\u001b[0m \u001b[0;34m+\u001b[0m \u001b[0mgamma\u001b[0m \u001b[0;34m*\u001b[0m \u001b[0mv\u001b[0m\u001b[0;34m[\u001b[0m\u001b[0ms_prime\u001b[0m\u001b[0;34m]\u001b[0m\u001b[0;34m)\u001b[0m\u001b[0;34m\u001b[0m\u001b[0;34m\u001b[0m\u001b[0m\n\u001b[0m\u001b[1;32m     12\u001b[0m     \u001b[0;32mif\u001b[0m \u001b[0mnp\u001b[0m\u001b[0;34m.\u001b[0m\u001b[0msum\u001b[0m\u001b[0;34m(\u001b[0m\u001b[0mnp\u001b[0m\u001b[0;34m.\u001b[0m\u001b[0mabs\u001b[0m\u001b[0;34m(\u001b[0m\u001b[0mv\u001b[0m \u001b[0;34m-\u001b[0m \u001b[0mv_prime\u001b[0m\u001b[0;34m)\u001b[0m\u001b[0;34m)\u001b[0m \u001b[0;34m<=\u001b[0m \u001b[0mTHRESHOLD\u001b[0m\u001b[0;34m:\u001b[0m\u001b[0;34m\u001b[0m\u001b[0;34m\u001b[0m\u001b[0m\n\u001b[1;32m     13\u001b[0m         \u001b[0mv\u001b[0m \u001b[0;34m=\u001b[0m \u001b[0mv_prime\u001b[0m\u001b[0;34m\u001b[0m\u001b[0;34m\u001b[0m\u001b[0m\n",
      "\u001b[0;31mIndexError\u001b[0m: index 5 is out of bounds for axis 0 with size 5"
     ]
    }
   ],
   "source": [
    "while True:\n",
    "    v_prime = np.zeros((GRID_SIZE, GRID_SIZE))\n",
    "    for i in range(GRID_SIZE):\n",
    "        for j in range(GRID_SIZE):\n",
    "            s = np.array([i, j])\n",
    "            for x_movement in [-1, 1]:\n",
    "                for y_movement in [-1, 1]:\n",
    "                    a = np.array([x_movement, y_movement])\n",
    "                    s_prime, r = perform_action(s, a, GRID_SIZE)\n",
    "                    print(\"s\", s, \"a\", a, \"s_prime\", s_prime, \"r\", r)\n",
    "                    v_prime[s] += pi_action * (r + gamma * v[s_prime])\n",
    "    if np.sum(np.abs(v - v_prime)) <= THRESHOLD:\n",
    "        v = v_prime\n",
    "        break\n",
    "    v = v_prime"
   ]
  },
  {
   "cell_type": "code",
   "execution_count": null,
   "metadata": {},
   "outputs": [],
   "source": []
  }
 ],
 "metadata": {
  "kernelspec": {
   "display_name": "Python 3",
   "language": "python",
   "name": "python3"
  },
  "language_info": {
   "codemirror_mode": {
    "name": "ipython",
    "version": 3
   },
   "file_extension": ".py",
   "mimetype": "text/x-python",
   "name": "python",
   "nbconvert_exporter": "python",
   "pygments_lexer": "ipython3",
   "version": "3.6.8"
  }
 },
 "nbformat": 4,
 "nbformat_minor": 2
}
